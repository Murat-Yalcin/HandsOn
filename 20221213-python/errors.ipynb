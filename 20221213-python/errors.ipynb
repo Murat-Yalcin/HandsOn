{
 "cells": [
  {
   "cell_type": "code",
   "execution_count": null,
   "metadata": {},
   "outputs": [],
   "source": []
  }
 ],
 "metadata": {
  "kernelspec": {
   "display_name": "Python 3.11.1 64-bit",
   "language": "python",
   "name": "python3"
  },
  "language_info": {
   "name": "python",
   "version": "3.11.1"
  },
  "orig_nbformat": 4,
  "vscode": {
   "interpreter": {
    "hash": "77ca56ee0034990c88684168f111d870d60642db9b908a78cea871a42e235a22"
   }
  }
 },
 "nbformat": 4,
 "nbformat_minor": 2
}
